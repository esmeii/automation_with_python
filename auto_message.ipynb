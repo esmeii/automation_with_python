{
  "nbformat": 4,
  "nbformat_minor": 0,
  "metadata": {
    "colab": {
      "name": "\bauto_message.ipynb",
      "provenance": [],
      "authorship_tag": "ABX9TyPp93ciG8rEGfAQUhnfAFH0",
      "include_colab_link": true
    },
    "kernelspec": {
      "name": "python3",
      "display_name": "Python 3"
    },
    "language_info": {
      "name": "python"
    }
  },
  "cells": [
    {
      "cell_type": "markdown",
      "metadata": {
        "id": "view-in-github",
        "colab_type": "text"
      },
      "source": [
        "<a href=\"https://colab.research.google.com/github/esmeii/automation_with_python/blob/main/%08auto_message.ipynb\" target=\"_parent\"><img src=\"https://colab.research.google.com/assets/colab-badge.svg\" alt=\"Open In Colab\"/></a>"
      ]
    },
    {
      "cell_type": "code",
      "execution_count": 2,
      "metadata": {
        "colab": {
          "base_uri": "https://localhost:8080/"
        },
        "id": "VdWihWU1hv7M",
        "outputId": "6f79fdbb-4e01-403c-d606-b9d8fff6ab85"
      },
      "outputs": [
        {
          "output_type": "stream",
          "name": "stdout",
          "text": [
            "{'access_token': 'yWQPOkDVUMWxQtjTcckRSDV3JfaZmTvo4yFJVDWpCinI2QAAAYKfknKQ', 'token_type': 'bearer', 'refresh_token': 'GEHAZpyw3NLo3L-dEOMpuJy-uSYmb1zuHtwXPKm1CinI2QAAAYKfknKP', 'expires_in': 21599, 'scope': 'profile_image talk_message profile_nickname', 'refresh_token_expires_in': 5183999}\n"
          ]
        }
      ],
      "source": [
        "import requests\n",
        "\n",
        "url = \"https://kauth.kakao.com/oauth/token\"\n",
        "\n",
        "data = {\n",
        "    \"grant_type\" : \"authorization_code\",\n",
        "    \"client_id\" : \"cd4e88f87db048d3ff9e3cdd6622d0f5\",\n",
        "    \"redirect_url\" : \"https://localhost.com\",\n",
        "    \"code\" : \"PEZVLI7Yi3BUiQjknNp7nKAcOWuvFi0k8-b6HJjA8_6D86_iRUaJrAHR4V8Pzf-Vlu6JnwopyWAAAAGCn4192w\"\n",
        "}\n",
        "\n",
        "response = requests.post(url, data=data)\n",
        "\n",
        "#요청에 실패했다면\n",
        "if response.status_code != 200:\n",
        "  print(\"error! because \", response.json())\n",
        "else:\n",
        "  tokens = response.json()\n",
        "  print(tokens)"
      ]
    },
    {
      "cell_type": "code",
      "source": [
        "import json\n",
        "import requests\n",
        "import datetime\n",
        "import os\n",
        "\n",
        "#카카오 토큰을 저장할 파일명\n",
        "KAKAO_TOKEN_FILENAME = \"/content/drive/My Drive/res/kaka_message/kakao_token.json\"\n",
        "\n",
        "#저장하는 함수\n",
        "def save_tokens(filename, tokens):\n",
        "  with open(filename, \"w\") as fp:\n",
        "    json.dump(tokens, fp)\n",
        "\n",
        "#읽어오는 함수\n",
        "def load_tokens(filename):\n",
        "  with open(filename) as fp:\n",
        "    tokens = json.load(fp)\n",
        "  return tokens\n",
        "\n",
        "#refresh_token으로 access_token 갱신\n",
        "def update_token(app_key, filename):\n",
        "  tokens = load_tokens(filename)\n",
        "\n",
        "  url = \"httpsL//kauth.kakao.com/oauth/token\"\n",
        "  data = {\n",
        "      \"grant_type\" : \"refresh_token\",\n",
        "      \"client_id\" : \"cd4e88f87db048d3ff9e3cdd6622d0f5\",\n",
        "      \"refresh_token\": tokens['refresh_token']\n",
        "  }\n",
        "  response = requests.post(url, data=data)\n",
        "\n",
        "  #요청에 실패했다면\n",
        "  if response.status_code != 200:\n",
        "    print(\"error! because \", response.json())\n",
        "    tokens = None\n",
        "  else :\n",
        "    print(response.json())\n",
        "    #기존 파일 백업\n",
        "    now = datetime.datetime.now().strftime(\"%Y%m%d_%H%M%S\")\n",
        "    backup_filename = filename+\".\"+now\n",
        "    os.rename(filename, backup_filename)\n",
        "    #갱신된 토큰 저장\n",
        "    tokens['access_token'] = response.json()['access_token']\n",
        "    save_tokens(filename, tokens)\n",
        "  return tokens\n",
        "\n",
        "#토큰 저장\n",
        "save_tokens(KAKAO_TOKEN_FILENAME, tokens)\n",
        "\n",
        "#토큰 업데이트 -> 토큰 저장 필수\n",
        "#KAK"
      ],
      "metadata": {
        "id": "73JV0WAOk-Fx"
      },
      "execution_count": 13,
      "outputs": []
    },
    {
      "cell_type": "code",
      "source": [
        "import json \n",
        "import requests\n",
        "\n",
        "#저장된 토큰 읽어오기\n",
        "tokens = load_tokens(KAKAO_TOKEN_FILENAME)\n",
        "\n",
        "#텍스트 메시지 Url\n",
        "url = \"https://kapi.kakao.com/v2/api/talk/memo/default/send\"\n",
        "\n",
        "# request parameter 설정\n",
        "headers = {\n",
        "    \"Authorization\":\"Bearer \" + tokens['access_token']\n",
        "}\n",
        "data = {\n",
        "    \"template_object\" : json.dumps({ \"object_type\" : \"text\",\n",
        "                                     \"text\" : \"투표 종료 10분 전입니다~\",\n",
        "                                     \"link\" : {\n",
        "                                         \"web_url\" : \"www.naver.com\"\n",
        "                                     }\n",
        "    })\n",
        "}\n",
        "\n",
        "# 나에게 카카오톡 메시지 보내기 요청 (text)\n",
        "response = requests.post(url, headers=headers, data=data)\n",
        "print(response.status_code)\n",
        "\n",
        "#요청에 실패했다면\n",
        "if response.status_code != 200:\n",
        "  print(\"error! because \", response.json())\n",
        "else : \n",
        "  print(\"메시지를 성공적으로 보냈습니다.\")"
      ],
      "metadata": {
        "colab": {
          "base_uri": "https://localhost:8080/"
        },
        "id": "v1W9Im-MowDc",
        "outputId": "c98566c8-3bfd-41de-c5d9-f80a3c8e6f4d"
      },
      "execution_count": 22,
      "outputs": [
        {
          "output_type": "stream",
          "name": "stdout",
          "text": [
            "200\n",
            "메시지를 성공적으로 보냈습니다.\n"
          ]
        }
      ]
    },
    {
      "cell_type": "code",
      "source": [
        "import json\n",
        "import requests\n",
        "\n",
        "#저장된 토큰 정보를 읽어 옴\n",
        "tokens = load_tokens(KAKAO_TOKEN_FILENAME)\n",
        "\n",
        "#리스트 메시지 url\n",
        "url = \"https://kapi.kakao.com/v2/api/talk/memo/default/send\"\n",
        "\n",
        "#request parameter 설정\n",
        "headers = {\n",
        "    \"Authorization\":\"Bearer\"+tokens['access_token']\n",
        "}\n",
        "\n",
        "template = {\n",
        "    \"object_type\" : \"list\",\n",
        "    \"header_title\" : \"타이틀\",\n",
        "    \"header_link\" : {\n",
        "        \"web_url\" : \"www.naver.com\",\n",
        "        \"mobile_web_url\" : \"www.naver.com\"\n",
        "    },\n",
        "    \"contents\" : [\n",
        "        {\n",
        "            \"title\" : \"1. 선택\",\n",
        "            \"description\" : \"이거냐\",\n",
        "            \"image_url\" : \"https://search1.kakaocdn.net/argon/0x200_85_hr/8x5qcbcQwi\",\n",
        "            \"image_width\" : 50, \"image_height\": 50,\n",
        "            \"link\" :{\n",
        "                \"web_url\" : \"www.naver.com\",\n",
        "                \"mobile_web_url\" : \"www.naver.com\"\n",
        "            }\n",
        "        },\n",
        "        {\n",
        "            \"title\" : \"2. 선택\",\n",
        "            \"description\" : \"저거냐\",\n",
        "            \"image_url\" : \"https://search1.kakaocdn.net/argon/0x200_85_hr/IjIToH1S7J1\",\n",
        "            \"image_width\" : 50, \"image_height\": 50,\n",
        "            \"link\" :{\n",
        "                \"web_url\" : \"www.naver.com\",\n",
        "                \"mobile_web_url\" : \"www.naver.com\"\n",
        "        }\n",
        "      }\n",
        "    ],\n",
        "    \"buttons\" : [\n",
        "        {\n",
        "            \"title\" : \"웹으로 이동\",\n",
        "            \"link\" : {\n",
        "                \"web_url\" : \"www.naver.com\",\n",
        "                \"mobile_web_url\" : \"www.naver.com\"\n",
        "            }\n",
        "        }\n",
        "    ]\n",
        "}\n",
        "\n",
        "\n",
        "data = {\n",
        "    \"template_object\" : json.dumps(template)\n",
        "}\n",
        "\n",
        "\n",
        "#나에게 카카오톡 메시지 보내기 요청(list)\n",
        "res = requests.post(url, data=data, headers=headers)\n",
        "print(response.status_code)\n",
        "\n",
        "#요청에 실패했다면\n",
        "if response.status_code != 200:\n",
        "  print(\"error! because \", response.json())\n",
        "else:\n",
        "  print(\"메시지를 성공적으로 보냈습니다.\")"
      ],
      "metadata": {
        "colab": {
          "base_uri": "https://localhost:8080/"
        },
        "id": "0pnDZAZtqDbx",
        "outputId": "5b49a3b1-e4fa-4b1e-9085-bd86fff26311"
      },
      "execution_count": 21,
      "outputs": [
        {
          "output_type": "stream",
          "name": "stdout",
          "text": [
            "200\n",
            "메시지를 성공적으로 보냈습니다.\n"
          ]
        }
      ]
    },
    {
      "cell_type": "code",
      "source": [
        ""
      ],
      "metadata": {
        "id": "RayR3dKcroPP"
      },
      "execution_count": null,
      "outputs": []
    }
  ]
}