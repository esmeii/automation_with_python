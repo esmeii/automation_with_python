{
  "nbformat": 4,
  "nbformat_minor": 0,
  "metadata": {
    "colab": {
      "name": "weatherAPI.ipynb",
      "provenance": [],
      "authorship_tag": "ABX9TyMOJ0ql3wwtYru1XzH90WDZ",
      "include_colab_link": true
    },
    "kernelspec": {
      "name": "python3",
      "display_name": "Python 3"
    },
    "language_info": {
      "name": "python"
    }
  },
  "cells": [
    {
      "cell_type": "markdown",
      "metadata": {
        "id": "view-in-github",
        "colab_type": "text"
      },
      "source": [
        "<a href=\"https://colab.research.google.com/github/esmeii/automation_with_python/blob/main/weatherAPI.ipynb\" target=\"_parent\"><img src=\"https://colab.research.google.com/assets/colab-badge.svg\" alt=\"Open In Colab\"/></a>"
      ]
    },
    {
      "cell_type": "code",
      "execution_count": null,
      "metadata": {
        "id": "MN3ahKZcELAS"
      },
      "outputs": [],
      "source": [
        "import requests\n",
        "import json\n",
        "import datetime\n",
        "\n",
        "village_weather_url = \"http://apis.data.go.kr/1360000/VilageFcstInfoService/getVilageFcst?\"\n",
        "\n",
        "service_key = \"동네예보조회 인증키\"\n",
        "base_data = datetime.datetime.today().strftime(\"%Y%m%d\")\n",
        "base_time = \"0800\"\n",
        "nx = \"59\"\n",
        "ny = \"126\"\n",
        "\n",
        "payload = \"serviceKey=\"+service_key+\"&\"+\\\n",
        "  \"dataType=json\"+\"&\"+\\\n",
        "  \"base_time\"+base_time+\"&\"+\\\n",
        "  \"base_date\"+base_date+\"&\"+\\\n",
        "  \"nx\"+nx+\"&\"+\\\n",
        "  \"ny\"+ny\n",
        "\n",
        "pty_code = {\"0\":\"없음\", \"1\":\"비\",\"2\":\"비/눈\u001d\",\"3\":\"눈\",\"4\":\"소나기\",\"5\":\"빗방울\",\"6\":\"빗방울/눈날림\",\"7\":\"눈\"}\n",
        "data = dict()\n",
        "data['data'] = base_data\n",
        "weather = dict()\n",
        "\n",
        "#값 요청\n",
        "res = requests.get(vilage_weather_url + payload)\n",
        "try:\n",
        "  items = res.json().get('response').get('body').get('items')\n",
        "  for item in items['item']:\n",
        "    #기온\n",
        "    if item['category'] =='T3H':\n",
        "      weather['tmp'] = item['fcstValue']\n",
        "    #강수상태\n",
        "    if item['category'] =='PTY':\n",
        "      weather['code'] = item['fcstValue']\n",
        "      weather['state']= pty_code[item['fcstValue']]\n",
        "except:\n",
        "      print(\"날씨 정보 가져오기 실패: \", res.text)\n",
        "data['weather'] = weather\n",
        "print(data['weather'])"
      ]
    },
    {
      "cell_type": "code",
      "source": [
        "#미세먼지 정보 얻기 및 정제\n",
        "\n",
        "def get_pm10_state(pm10_value):\n",
        "  if pm10_value < 30:\n",
        "    pm10_state = \"좋음\"\n",
        "  elif pm10_value <80:\n",
        "    pm10_state = \"보통\"\n",
        "  elif pm10_value <150:\n",
        "    pm10_state = \"나쁨\"\n",
        "  else:\n",
        "    pm10_state = \"매우 나쁨\"\n",
        "  return pm10_state\n",
        "def get_pm25_state(pm25_value):\n",
        "  if pm25_value < 30:\n",
        "    pm25_state = \"좋음\"\n",
        "  elif pm25_value <80:\n",
        "    pm25_state = \"보통\"\n",
        "  elif pm25_value <150:\n",
        "    pm25_state = \"나쁨\"\n",
        "  else:\n",
        "    pm25_state = \"매우 나쁨\"\n",
        "  return pm25_state\n",
        "\n",
        "#미세먼지 데이터 요청\n",
        "dust_url = \"http://apis.data.go.kr/B552584/ArpltnInforInqireSvc/getCtprvnRltmMesureDnsty?\"\n",
        "service_key = \"환경공단 에어코리아 대기오염 정보의 인증키\"\n",
        "\n",
        "payload = \"serviceKey=\"+service_key+\"&\"+\\\n",
        "  \"dataType=json\"+\"&\"+\\\n",
        "  \"sidoName=서울\"+\"&\"+\\\n",
        "  \"var=1.0\"\n",
        "\n",
        "#pm10 pm2.5 수치 가져오기\n",
        "res = requests.get(dust_url+payload)\n",
        "result = res.json()\n",
        "dust = dict()\n",
        "if(res.status_code == 200)&(result['response']['header']['resultCode'] == '00'):\n",
        "  dust['PM10'] = {'value' : int(result['response']['body']['items'][0]['pm10Value'])}\n",
        "  dust['PM2.5'] = {'value' : int(result['response']['body']['items'][0]['pm2.5Value'])}\n",
        "\n",
        "  #PM10 미세먼지 30 80 150\n",
        "  pm10_value = dust.get('PM10').get('value')\n",
        "  pm10_state = get_pm10+state(pm10_value)\n",
        "  #PM2.5 초미세먼지 15 35 75\n",
        "  pm25_value = dust.get('PM2.5').get('value')\n",
        "  pm25_state = get_pm25+state(pm25_value)\n",
        "else:\n",
        "  print(\"미세먼지 가져오기 실패 \",result['response']['header']['resultMsg'])\n",
        "\n",
        "data['dust'] = dust\n",
        "print(data['dust'])"
      ],
      "metadata": {
        "id": "fJQnyD_JIGkg"
      },
      "execution_count": null,
      "outputs": []
    },
    {
      "cell_type": "code",
      "source": [
        ""
      ],
      "metadata": {
        "id": "T9P6-q4fLpB4"
      },
      "execution_count": null,
      "outputs": []
    }
  ]
}